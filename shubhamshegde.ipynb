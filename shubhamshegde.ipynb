{
 "cells": [
  {
   "cell_type": "markdown",
   "metadata": {},
   "source": [
    "# Spark Test\n"
   ]
  },
  {
   "cell_type": "code",
   "execution_count": 1,
   "metadata": {},
   "outputs": [],
   "source": [
    "import os\n",
    "os.getenv(\"de\")"
   ]
  },
  {
   "cell_type": "code",
   "execution_count": 2,
   "metadata": {},
   "outputs": [],
   "source": [
    "from pyspark import SparkConf, SparkContext\n",
    "from pyspark.sql import SparkSession"
   ]
  },
  {
   "cell_type": "code",
   "execution_count": 3,
   "metadata": {},
   "outputs": [],
   "source": [
    "spark=SparkSession.builder.master(\"local\").appName(\"de\").getOrCreate()\n",
    "conf=SparkConf().setMaster(\"local\").setAppName(\"de\")\n",
    "sc=SparkContext.getOrCreate()"
   ]
  },
  {
   "cell_type": "code",
   "execution_count": 4,
   "metadata": {},
   "outputs": [
    {
     "data": {
      "text/html": [
       "\n",
       "            <div>\n",
       "                <p><b>SparkSession - in-memory</b></p>\n",
       "                \n",
       "        <div>\n",
       "            <p><b>SparkContext</b></p>\n",
       "\n",
       "            <p><a href=\"http://friends:4040\">Spark UI</a></p>\n",
       "\n",
       "            <dl>\n",
       "              <dt>Version</dt>\n",
       "                <dd><code>v3.0.1</code></dd>\n",
       "              <dt>Master</dt>\n",
       "                <dd><code>local</code></dd>\n",
       "              <dt>AppName</dt>\n",
       "                <dd><code>de</code></dd>\n",
       "            </dl>\n",
       "        </div>\n",
       "        \n",
       "            </div>\n",
       "        "
      ],
      "text/plain": [
       "<pyspark.sql.session.SparkSession at 0xfe58f339d0>"
      ]
     },
     "execution_count": 4,
     "metadata": {},
     "output_type": "execute_result"
    }
   ],
   "source": [
    "spark"
   ]
  },
  {
   "cell_type": "markdown",
   "metadata": {},
   "source": [
    "* Load Parquet file and CSV file"
   ]
  },
  {
   "cell_type": "code",
   "execution_count": 5,
   "metadata": {},
   "outputs": [],
   "source": [
    "consumerinternParaq = spark.read.parquet(\"consumerInternet.parquet\")"
   ]
  },
  {
   "cell_type": "code",
   "execution_count": 6,
   "metadata": {},
   "outputs": [
    {
     "name": "stdout",
     "output_type": "stream",
     "text": [
      "941 10\n"
     ]
    }
   ],
   "source": [
    "print(consumerinternParaq.count(), len(consumerinternParaq.columns))"
   ]
  },
  {
   "cell_type": "code",
   "execution_count": 7,
   "metadata": {},
   "outputs": [
    {
     "name": "stdout",
     "output_type": "stream",
     "text": [
      "+-----+----------+------------+-----------------+--------------------+---------+--------------------+---------------+-------------+-------+\n",
      "|Sr_No|      Date|Startup_Name|Industry_Vertical|         SubVertical|     City|      Investors_Name|InvestmentnType|Amount_in_USD|Remarks|\n",
      "+-----+----------+------------+-----------------+--------------------+---------+--------------------+---------------+-------------+-------+\n",
      "|  152|01/09/2018|     Netmeds|Consumer Internet|Online Pharmacy C...|  Chennai|Sistema Asia Fund...| Private Equity|  3,50,00,000|    nan|\n",
      "|  154|03/09/2018|  Daily hunt|Consumer Internet|News and ebooks M...|Bengaluru|         Falcon Edge| Private Equity|    63,90,000|    nan|\n",
      "|  156|04/09/2018| HappyGoEasy|Consumer Internet| Online Travel Agecy| Gurugram|Korea Investment ...| Private Equity|          N/A|    nan|\n",
      "|  157|05/09/2018|       Nykaa|Consumer Internet|Online Marketplac...|   Mumbai|          Lighthouse| Private Equity| 15,72,00,000|    nan|\n",
      "|  159|06/09/2018|     Dream11|Consumer Internet|Online Gaming Pla...|   Mumbai|Tencent, Kalaari ...| Private Equity| 10,00,00,000|    nan|\n",
      "+-----+----------+------------+-----------------+--------------------+---------+--------------------+---------------+-------------+-------+\n",
      "only showing top 5 rows\n",
      "\n"
     ]
    }
   ],
   "source": [
    "consumerinternParaq.show(5, truncate=True)"
   ]
  },
  {
   "cell_type": "code",
   "execution_count": 8,
   "metadata": {},
   "outputs": [
    {
     "name": "stdout",
     "output_type": "stream",
     "text": [
      "root\n",
      " |-- Sr_No: string (nullable = true)\n",
      " |-- Date: string (nullable = true)\n",
      " |-- Startup_Name: string (nullable = true)\n",
      " |-- Industry_Vertical: string (nullable = true)\n",
      " |-- SubVertical: string (nullable = true)\n",
      " |-- City: string (nullable = true)\n",
      " |-- Investors_Name: string (nullable = true)\n",
      " |-- InvestmentnType: string (nullable = true)\n",
      " |-- Amount_in_USD: string (nullable = true)\n",
      " |-- Remarks: string (nullable = true)\n",
      "\n"
     ]
    }
   ],
   "source": [
    "consumerinternParaq.printSchema()"
   ]
  },
  {
   "cell_type": "code",
   "execution_count": 9,
   "metadata": {},
   "outputs": [],
   "source": [
    "startupFPath=\"startup.csv\"\n",
    "startupF=spark.read.format(\"csv\").option(\"inferSchema\", \"true\").option(\"header\", \"true\").load(startupFPath)"
   ]
  },
  {
   "cell_type": "code",
   "execution_count": 10,
   "metadata": {},
   "outputs": [
    {
     "name": "stdout",
     "output_type": "stream",
     "text": [
      "2103 10\n"
     ]
    }
   ],
   "source": [
    "print(startupF.count(), len(startupF.columns))"
   ]
  },
  {
   "cell_type": "code",
   "execution_count": 11,
   "metadata": {},
   "outputs": [
    {
     "name": "stdout",
     "output_type": "stream",
     "text": [
      "+-----+----------+--------------------+-------------------+--------------------+---------+--------------------+--------------------+-------------+-------+\n",
      "|Sr_No|      Date|        Startup_Name|  Industry_Vertical|         SubVertical|     City|      Investors_Name|     InvestmentnType|Amount_in_USD|Remarks|\n",
      "+-----+----------+--------------------+-------------------+--------------------+---------+--------------------+--------------------+-------------+-------+\n",
      "|    1|09/01/2020|              BYJU’S|             E-Tech|          E-learning|Bengaluru|Tiger Global Mana...|Private Equity Round| 20,00,00,000|   null|\n",
      "|    2|13/01/2020|              Shuttl|     Transportation|App based shuttle...|  Gurgaon|Susquehanna Growt...|            Series C|    80,48,394|   null|\n",
      "|    3|09/01/2020|           Mamaearth|         E-commerce|Retailer of baby ...|Bengaluru|Sequoia Capital I...|            Series B|  1,83,58,860|   null|\n",
      "|    4|02/01/2020|https://www.wealt...|            FinTech|   Online Investment|New Delhi|      Vinod Khatumal|        Pre-series A|    30,00,000|   null|\n",
      "|    5|02/01/2020|              Fashor|Fashion and Apparel|Embroiled Clothes...|   Mumbai|Sprout Venture Pa...|          Seed Round|    18,00,000|   null|\n",
      "+-----+----------+--------------------+-------------------+--------------------+---------+--------------------+--------------------+-------------+-------+\n",
      "only showing top 5 rows\n",
      "\n"
     ]
    }
   ],
   "source": [
    "startupF.show(5, truncate=True)"
   ]
  },
  {
   "cell_type": "code",
   "execution_count": 12,
   "metadata": {},
   "outputs": [
    {
     "name": "stdout",
     "output_type": "stream",
     "text": [
      "root\n",
      " |-- Sr_No: integer (nullable = true)\n",
      " |-- Date: string (nullable = true)\n",
      " |-- Startup_Name: string (nullable = true)\n",
      " |-- Industry_Vertical: string (nullable = true)\n",
      " |-- SubVertical: string (nullable = true)\n",
      " |-- City: string (nullable = true)\n",
      " |-- Investors_Name: string (nullable = true)\n",
      " |-- InvestmentnType: string (nullable = true)\n",
      " |-- Amount_in_USD: string (nullable = true)\n",
      " |-- Remarks: string (nullable = true)\n",
      "\n"
     ]
    }
   ],
   "source": [
    "startupF.printSchema()"
   ]
  },
  {
   "cell_type": "markdown",
   "metadata": {},
   "source": [
    "## 1. Combine the Consumer Itnernet and Startup dataframes"
   ]
  },
  {
   "cell_type": "code",
   "execution_count": 13,
   "metadata": {},
   "outputs": [],
   "source": [
    "dfconsumerinternstartup=consumerinternParaq.union(startupF)"
   ]
  },
  {
   "cell_type": "code",
   "execution_count": 14,
   "metadata": {},
   "outputs": [
    {
     "name": "stdout",
     "output_type": "stream",
     "text": [
      "3044 10\n"
     ]
    }
   ],
   "source": [
    "print(dfconsumerinternstartup.count(), len(dfconsumerinternstartup.columns))"
   ]
  },
  {
   "cell_type": "code",
   "execution_count": 15,
   "metadata": {},
   "outputs": [
    {
     "name": "stdout",
     "output_type": "stream",
     "text": [
      "+-----+----------+------------+-----------------+---------------------------------------+----+------------------------------------------------------+--------------------+-------------+-------+\n",
      "|Sr_No|Date      |Startup_Name|Industry_Vertical|SubVertical                            |City|Investors_Name                                        |InvestmentnType     |Amount_in_USD|Remarks|\n",
      "+-----+----------+------------+-----------------+---------------------------------------+----+------------------------------------------------------+--------------------+-------------+-------+\n",
      "|215  |24/07/2018|Digit       |Consumer Internet|Online Insurance Startup               |Pune|Fairfax                                               |Private Equity      |4,50,00,000  |nan    |\n",
      "|263  |11/05/2018|Earth Food  |Consumer Internet|Agri-tech                              |Pune|Rairah Corporation                                    |Seed / Angel Funding|9,49,000     |nan    |\n",
      "|325  |04/03/2018|Livehealth  |Consumer Internet|Health Service Aggregator Platform     |Pune|Nexus Venture Partners                                |Seed / Angel Funding|11,00,000    |nan    |\n",
      "|340  |21/03/2018|GigIndia    |Consumer Internet|Micro Jobs Provider For Students       |Pune|Jessica Wong, Hiro Mashita, Xue Manzi and Yiyun Zhang.|Seed / Angel Funding|N/A          |nan    |\n",
      "|360  |08/02/2018|Icertis     |Consumer Internet|Enterprise Contract Management Platform|Pune|Meritech Capital Partners                             |Private Equity      |5,00,00,000  |nan    |\n",
      "+-----+----------+------------+-----------------+---------------------------------------+----+------------------------------------------------------+--------------------+-------------+-------+\n",
      "only showing top 5 rows\n",
      "\n"
     ]
    }
   ],
   "source": [
    "dfconsumerinternstartup.filter(dfconsumerinternstartup.City == 'Pune').show(5,truncate=False)"
   ]
  },
  {
   "cell_type": "markdown",
   "metadata": {},
   "source": [
    "## Ans A: Total Startups is Pune City are"
   ]
  },
  {
   "cell_type": "code",
   "execution_count": 16,
   "metadata": {},
   "outputs": [],
   "source": [
    "startupInPune=dfconsumerinternstartup.filter(dfconsumerinternstartup.City == 'Pune').count()"
   ]
  },
  {
   "cell_type": "code",
   "execution_count": 17,
   "metadata": {},
   "outputs": [
    {
     "data": {
      "text/plain": [
       "105"
      ]
     },
     "execution_count": 17,
     "metadata": {},
     "output_type": "execute_result"
    }
   ],
   "source": [
    "startupInPune"
   ]
  },
  {
   "cell_type": "markdown",
   "metadata": {},
   "source": [
    "## Ans B: Total number of startups who get funds for Seed and Angel Investment Type"
   ]
  },
  {
   "cell_type": "code",
   "execution_count": 18,
   "metadata": {},
   "outputs": [
    {
     "data": {
      "text/plain": [
       "4"
      ]
     },
     "execution_count": 18,
     "metadata": {},
     "output_type": "execute_result"
    }
   ],
   "source": [
    "dfconsumerinternstartup.filter(dfconsumerinternstartup.InvestmentnType == 'Seed' ).count()"
   ]
  },
  {
   "cell_type": "code",
   "execution_count": 19,
   "metadata": {},
   "outputs": [
    {
     "data": {
      "text/plain": [
       "1"
      ]
     },
     "execution_count": 19,
     "metadata": {},
     "output_type": "execute_result"
    }
   ],
   "source": [
    "dfconsumerinternstartup.filter(dfconsumerinternstartup.InvestmentnType == 'Angel' ).count()"
   ]
  },
  {
   "cell_type": "code",
   "execution_count": 20,
   "metadata": {},
   "outputs": [
    {
     "data": {
      "text/plain": [
       "5"
      ]
     },
     "execution_count": 20,
     "metadata": {},
     "output_type": "execute_result"
    }
   ],
   "source": [
    "dfconsumerinternstartup.filter( (dfconsumerinternstartup.InvestmentnType == 'Seed') | (dfconsumerinternstartup.InvestmentnType == 'Angel') ).count()"
   ]
  },
  {
   "cell_type": "markdown",
   "metadata": {},
   "source": [
    "## Ans C: Amout Raised by startups in Pune"
   ]
  },
  {
   "cell_type": "markdown",
   "metadata": {},
   "source": [
    "* First chek there are any records with null or None values   (watchou there are N/A non standard Null values)"
   ]
  },
  {
   "cell_type": "code",
   "execution_count": 21,
   "metadata": {},
   "outputs": [],
   "source": [
    "punestartups=dfconsumerinternstartup.filter(dfconsumerinternstartup.City == 'Pune')"
   ]
  },
  {
   "cell_type": "code",
   "execution_count": 22,
   "metadata": {},
   "outputs": [
    {
     "name": "stdout",
     "output_type": "stream",
     "text": [
      "+-----+----------+------------+-----------------+---------------------------------------+----+------------------------------------------------------+--------------------+-------------+-------+\n",
      "|Sr_No|Date      |Startup_Name|Industry_Vertical|SubVertical                            |City|Investors_Name                                        |InvestmentnType     |Amount_in_USD|Remarks|\n",
      "+-----+----------+------------+-----------------+---------------------------------------+----+------------------------------------------------------+--------------------+-------------+-------+\n",
      "|215  |24/07/2018|Digit       |Consumer Internet|Online Insurance Startup               |Pune|Fairfax                                               |Private Equity      |4,50,00,000  |nan    |\n",
      "|263  |11/05/2018|Earth Food  |Consumer Internet|Agri-tech                              |Pune|Rairah Corporation                                    |Seed / Angel Funding|9,49,000     |nan    |\n",
      "|325  |04/03/2018|Livehealth  |Consumer Internet|Health Service Aggregator Platform     |Pune|Nexus Venture Partners                                |Seed / Angel Funding|11,00,000    |nan    |\n",
      "|340  |21/03/2018|GigIndia    |Consumer Internet|Micro Jobs Provider For Students       |Pune|Jessica Wong, Hiro Mashita, Xue Manzi and Yiyun Zhang.|Seed / Angel Funding|N/A          |nan    |\n",
      "|360  |08/02/2018|Icertis     |Consumer Internet|Enterprise Contract Management Platform|Pune|Meritech Capital Partners                             |Private Equity      |5,00,00,000  |nan    |\n",
      "+-----+----------+------------+-----------------+---------------------------------------+----+------------------------------------------------------+--------------------+-------------+-------+\n",
      "only showing top 5 rows\n",
      "\n"
     ]
    }
   ],
   "source": [
    "punestartups.show(5,truncate=False)"
   ]
  },
  {
   "cell_type": "markdown",
   "metadata": {},
   "source": [
    "* Remove the commas and NAs from Amount_in_USD column"
   ]
  },
  {
   "cell_type": "code",
   "execution_count": 23,
   "metadata": {},
   "outputs": [
    {
     "name": "stdout",
     "output_type": "stream",
     "text": [
      "+-----+----------+------------+-----------------+---------------------------------------+----+------------------------------------------------------+--------------------+-------------+-------+\n",
      "|Sr_No|Date      |Startup_Name|Industry_Vertical|SubVertical                            |City|Investors_Name                                        |InvestmentnType     |Amount_in_USD|Remarks|\n",
      "+-----+----------+------------+-----------------+---------------------------------------+----+------------------------------------------------------+--------------------+-------------+-------+\n",
      "|215  |24/07/2018|Digit       |Consumer Internet|Online Insurance Startup               |Pune|Fairfax                                               |Private Equity      |45000000     |nan    |\n",
      "|263  |11/05/2018|Earth Food  |Consumer Internet|Agri-tech                              |Pune|Rairah Corporation                                    |Seed / Angel Funding|949000       |nan    |\n",
      "|325  |04/03/2018|Livehealth  |Consumer Internet|Health Service Aggregator Platform     |Pune|Nexus Venture Partners                                |Seed / Angel Funding|1100000      |nan    |\n",
      "|340  |21/03/2018|GigIndia    |Consumer Internet|Micro Jobs Provider For Students       |Pune|Jessica Wong, Hiro Mashita, Xue Manzi and Yiyun Zhang.|Seed / Angel Funding|0            |nan    |\n",
      "|360  |08/02/2018|Icertis     |Consumer Internet|Enterprise Contract Management Platform|Pune|Meritech Capital Partners                             |Private Equity      |50000000     |nan    |\n",
      "+-----+----------+------------+-----------------+---------------------------------------+----+------------------------------------------------------+--------------------+-------------+-------+\n",
      "only showing top 5 rows\n",
      "\n"
     ]
    }
   ],
   "source": [
    "from pyspark.sql.functions import *\n",
    "\n",
    "punestartups1=punestartups.withColumn('Amount_in_USD', regexp_replace('Amount_in_USD',',',''))\n",
    "# punestartups1.show(truncate=False)\n",
    "\n",
    "\n",
    "punestartups2=punestartups1.withColumn('Amount_in_USD', regexp_replace('Amount_in_USD','N/A','0'))\n",
    "punestartups2.show(5, truncate=False)"
   ]
  },
  {
   "cell_type": "markdown",
   "metadata": {},
   "source": [
    "* Total amount raised by startup in Pune city"
   ]
  },
  {
   "cell_type": "code",
   "execution_count": 24,
   "metadata": {},
   "outputs": [
    {
     "data": {
      "text/plain": [
       "633082000.0"
      ]
     },
     "execution_count": 24,
     "metadata": {},
     "output_type": "execute_result"
    }
   ],
   "source": [
    "import pyspark.sql.functions as F     \n",
    "\n",
    "punestartups2.agg(F.sum(\"Amount_in_USD\")).collect()[0][0]"
   ]
  },
  {
   "cell_type": "markdown",
   "metadata": {},
   "source": [
    "## Ans D: Top 5 Industry_Verticle startups"
   ]
  },
  {
   "cell_type": "code",
   "execution_count": 25,
   "metadata": {},
   "outputs": [],
   "source": [
    "industry_verticle_startups=dfconsumerinternstartup.select('Startup_Name','Industry_Vertical')"
   ]
  },
  {
   "cell_type": "code",
   "execution_count": 26,
   "metadata": {},
   "outputs": [
    {
     "name": "stdout",
     "output_type": "stream",
     "text": [
      "+-----------------+-----+\n",
      "|Industry_Vertical|count|\n",
      "+-----------------+-----+\n",
      "|Consumer Internet|941  |\n",
      "|Technology       |478  |\n",
      "|eCommerce        |186  |\n",
      "|nan              |171  |\n",
      "|Healthcare       |70   |\n",
      "+-----------------+-----+\n",
      "only showing top 5 rows\n",
      "\n"
     ]
    }
   ],
   "source": [
    "industry_verticle_startups.groupBy('Industry_Vertical').count().orderBy(col('count').desc()).show(5,truncate=False)"
   ]
  },
  {
   "cell_type": "markdown",
   "metadata": {},
   "source": [
    "## Ans E: Top Investor each year"
   ]
  },
  {
   "cell_type": "code",
   "execution_count": 27,
   "metadata": {},
   "outputs": [
    {
     "name": "stdout",
     "output_type": "stream",
     "text": [
      "+-----+----------+------------+-----------------+------------------------------------------------------------------------+---------+-------------------------------------------------------------------------------------+---------------+-------------+-------+\n",
      "|Sr_No|Date      |Startup_Name|Industry_Vertical|SubVertical                                                             |City     |Investors_Name                                                                       |InvestmentnType|Amount_in_USD|Remarks|\n",
      "+-----+----------+------------+-----------------+------------------------------------------------------------------------+---------+-------------------------------------------------------------------------------------+---------------+-------------+-------+\n",
      "|152  |01/09/2018|Netmeds     |Consumer Internet|Online Pharmacy Chain                                                   |Chennai  |Sistema Asia Fund, Sistema JSFC and Tanncam Investment                               |Private Equity |3,50,00,000  |nan    |\n",
      "|154  |03/09/2018|Daily hunt  |Consumer Internet|News and ebooks Mobile App\\\\xc2\\\\xa0                                    |Bengaluru|Falcon Edge                                                                          |Private Equity |63,90,000    |nan    |\n",
      "|156  |04/09/2018|HappyGoEasy |Consumer Internet|Online Travel Agecy                                                     |Gurugram |Korea Investment Partners (KIP), Samsung and China-based CITIC Capital and others    |Private Equity |N/A          |nan    |\n",
      "|157  |05/09/2018|Nykaa       |Consumer Internet|Online Marketplace For Multi-brand Beauty Cosmetic and Wellness Products|Mumbai   |Lighthouse                                                                           |Private Equity |15,72,00,000 |nan    |\n",
      "|159  |06/09/2018|Dream11     |Consumer Internet|Online Gaming Platform                                                  |Mumbai   |Tencent, Kalaari Capital and Private equity firm Multiples Alternate Asset Management|Private Equity |10,00,00,000 |nan    |\n",
      "+-----+----------+------------+-----------------+------------------------------------------------------------------------+---------+-------------------------------------------------------------------------------------+---------------+-------------+-------+\n",
      "only showing top 5 rows\n",
      "\n"
     ]
    }
   ],
   "source": [
    "dfconsumerinternstartup.show(5,truncate=False)"
   ]
  },
  {
   "cell_type": "markdown",
   "metadata": {},
   "source": [
    "* Note: Date column is not of type Date (it is string)"
   ]
  },
  {
   "cell_type": "code",
   "execution_count": 28,
   "metadata": {},
   "outputs": [
    {
     "name": "stdout",
     "output_type": "stream",
     "text": [
      "root\n",
      " |-- Sr_No: string (nullable = true)\n",
      " |-- Date: string (nullable = true)\n",
      " |-- Startup_Name: string (nullable = true)\n",
      " |-- Industry_Vertical: string (nullable = true)\n",
      " |-- SubVertical: string (nullable = true)\n",
      " |-- City: string (nullable = true)\n",
      " |-- Investors_Name: string (nullable = true)\n",
      " |-- InvestmentnType: string (nullable = true)\n",
      " |-- Amount_in_USD: string (nullable = true)\n",
      " |-- Remarks: string (nullable = true)\n",
      "\n"
     ]
    }
   ],
   "source": [
    "dfconsumerinternstartup.printSchema()"
   ]
  },
  {
   "cell_type": "markdown",
   "metadata": {},
   "source": [
    "* Remove the commas and NAs from Amount_in_USD column"
   ]
  },
  {
   "cell_type": "code",
   "execution_count": 29,
   "metadata": {},
   "outputs": [
    {
     "name": "stdout",
     "output_type": "stream",
     "text": [
      "+-----+----------+------------+-----------------+------------------------------------------------------------------------+---------+-------------------------------------------------------------------------------------+---------------+-------------+-------+\n",
      "|Sr_No|Date      |Startup_Name|Industry_Vertical|SubVertical                                                             |City     |Investors_Name                                                                       |InvestmentnType|Amount_in_USD|Remarks|\n",
      "+-----+----------+------------+-----------------+------------------------------------------------------------------------+---------+-------------------------------------------------------------------------------------+---------------+-------------+-------+\n",
      "|152  |01/09/2018|Netmeds     |Consumer Internet|Online Pharmacy Chain                                                   |Chennai  |Sistema Asia Fund, Sistema JSFC and Tanncam Investment                               |Private Equity |35000000     |nan    |\n",
      "|154  |03/09/2018|Daily hunt  |Consumer Internet|News and ebooks Mobile App\\\\xc2\\\\xa0                                    |Bengaluru|Falcon Edge                                                                          |Private Equity |6390000      |nan    |\n",
      "|156  |04/09/2018|HappyGoEasy |Consumer Internet|Online Travel Agecy                                                     |Gurugram |Korea Investment Partners (KIP), Samsung and China-based CITIC Capital and others    |Private Equity |0            |nan    |\n",
      "|157  |05/09/2018|Nykaa       |Consumer Internet|Online Marketplace For Multi-brand Beauty Cosmetic and Wellness Products|Mumbai   |Lighthouse                                                                           |Private Equity |157200000    |nan    |\n",
      "|159  |06/09/2018|Dream11     |Consumer Internet|Online Gaming Platform                                                  |Mumbai   |Tencent, Kalaari Capital and Private equity firm Multiples Alternate Asset Management|Private Equity |100000000    |nan    |\n",
      "+-----+----------+------------+-----------------+------------------------------------------------------------------------+---------+-------------------------------------------------------------------------------------+---------------+-------------+-------+\n",
      "only showing top 5 rows\n",
      "\n"
     ]
    }
   ],
   "source": [
    "from pyspark.sql.functions import *\n",
    "\n",
    "dfcommaremovedamount=dfconsumerinternstartup.withColumn('Amount_in_USD', regexp_replace('Amount_in_USD',',',''))\n",
    "\n",
    "\n",
    "\n",
    "dfnaremovedamount=dfcommaremovedamount.withColumn('Amount_in_USD', regexp_replace('Amount_in_USD','N/A','0'))\n",
    "dfnaremovedamount.show(5, truncate=False)"
   ]
  },
  {
   "cell_type": "markdown",
   "metadata": {},
   "source": [
    "* Note: Convert Date column into Only Year column"
   ]
  },
  {
   "cell_type": "code",
   "execution_count": 30,
   "metadata": {},
   "outputs": [
    {
     "name": "stdout",
     "output_type": "stream",
     "text": [
      "+-----+----+------------+-----------------+------------------------------------------------------------------------+---------+-------------------------------------------------------------------------------------+---------------+-------------+-------+\n",
      "|Sr_No|Date|Startup_Name|Industry_Vertical|SubVertical                                                             |City     |Investors_Name                                                                       |InvestmentnType|Amount_in_USD|Remarks|\n",
      "+-----+----+------------+-----------------+------------------------------------------------------------------------+---------+-------------------------------------------------------------------------------------+---------------+-------------+-------+\n",
      "|152  |2018|Netmeds     |Consumer Internet|Online Pharmacy Chain                                                   |Chennai  |Sistema Asia Fund, Sistema JSFC and Tanncam Investment                               |Private Equity |35000000     |nan    |\n",
      "|154  |2018|Daily hunt  |Consumer Internet|News and ebooks Mobile App\\\\xc2\\\\xa0                                    |Bengaluru|Falcon Edge                                                                          |Private Equity |6390000      |nan    |\n",
      "|156  |2018|HappyGoEasy |Consumer Internet|Online Travel Agecy                                                     |Gurugram |Korea Investment Partners (KIP), Samsung and China-based CITIC Capital and others    |Private Equity |0            |nan    |\n",
      "|157  |2018|Nykaa       |Consumer Internet|Online Marketplace For Multi-brand Beauty Cosmetic and Wellness Products|Mumbai   |Lighthouse                                                                           |Private Equity |157200000    |nan    |\n",
      "|159  |2018|Dream11     |Consumer Internet|Online Gaming Platform                                                  |Mumbai   |Tencent, Kalaari Capital and Private equity firm Multiples Alternate Asset Management|Private Equity |100000000    |nan    |\n",
      "+-----+----+------------+-----------------+------------------------------------------------------------------------+---------+-------------------------------------------------------------------------------------+---------------+-------------+-------+\n",
      "only showing top 5 rows\n",
      "\n"
     ]
    }
   ],
   "source": [
    "dfonlyyear = (dfnaremovedamount.withColumn('Date', substring('Date', -4, 4)  ))\n",
    "dfonlyyear.show(5, truncate=False)"
   ]
  },
  {
   "cell_type": "code",
   "execution_count": 31,
   "metadata": {},
   "outputs": [],
   "source": [
    "from pyspark.sql.types import *\n",
    "\n",
    "dfonlyyearamoutnum=dfonlyyear.withColumn(  'Amount_in_USD',   dfonlyyear.Amount_in_USD.cast(LongType())  )"
   ]
  },
  {
   "cell_type": "code",
   "execution_count": 32,
   "metadata": {},
   "outputs": [
    {
     "name": "stdout",
     "output_type": "stream",
     "text": [
      "root\n",
      " |-- Sr_No: string (nullable = true)\n",
      " |-- Date: string (nullable = true)\n",
      " |-- Startup_Name: string (nullable = true)\n",
      " |-- Industry_Vertical: string (nullable = true)\n",
      " |-- SubVertical: string (nullable = true)\n",
      " |-- City: string (nullable = true)\n",
      " |-- Investors_Name: string (nullable = true)\n",
      " |-- InvestmentnType: string (nullable = true)\n",
      " |-- Amount_in_USD: long (nullable = true)\n",
      " |-- Remarks: string (nullable = true)\n",
      "\n"
     ]
    }
   ],
   "source": [
    "dfonlyyearamoutnum.printSchema()"
   ]
  },
  {
   "cell_type": "code",
   "execution_count": 33,
   "metadata": {},
   "outputs": [],
   "source": [
    "dfmaxamountofyear=dfonlyyearamoutnum.groupBy('Date').max('Amount_in_USD')"
   ]
  },
  {
   "cell_type": "code",
   "execution_count": 34,
   "metadata": {},
   "outputs": [
    {
     "name": "stdout",
     "output_type": "stream",
     "text": [
      "+----+------------------+\n",
      "|Date|max(Amount_in_USD)|\n",
      "+----+------------------+\n",
      "|2016|200000000         |\n",
      "|2020|200000000         |\n",
      "|2019|3900000000        |\n",
      "|2017|2500000000        |\n",
      "|/015|630000            |\n",
      "|2018|600000000         |\n",
      "|2015|700000000         |\n",
      "+----+------------------+\n",
      "\n"
     ]
    }
   ],
   "source": [
    "dfmaxamountofyear.show(truncate=False)"
   ]
  },
  {
   "cell_type": "code",
   "execution_count": 35,
   "metadata": {},
   "outputs": [
    {
     "name": "stdout",
     "output_type": "stream",
     "text": [
      "+----+------------------+-----+----+------------+-----------------+--------------------+---------+--------------------+---------------+-------------+-------+\n",
      "|Date|max(Amount_in_USD)|Sr_No|Date|Startup_Name|Industry_Vertical|         SubVertical|     City|      Investors_Name|InvestmentnType|Amount_in_USD|Remarks|\n",
      "+----+------------------+-----+----+------------+-----------------+--------------------+---------+--------------------+---------------+-------------+-------+\n",
      "|2018|         600000000|  152|2018|     Netmeds|Consumer Internet|Online Pharmacy C...|  Chennai|Sistema Asia Fund...| Private Equity|     35000000|    nan|\n",
      "|2018|         600000000|  154|2018|  Daily hunt|Consumer Internet|News and ebooks M...|Bengaluru|         Falcon Edge| Private Equity|      6390000|    nan|\n",
      "+----+------------------+-----+----+------------+-----------------+--------------------+---------+--------------------+---------------+-------------+-------+\n",
      "only showing top 2 rows\n",
      "\n"
     ]
    }
   ],
   "source": [
    "top_investor_yearwise =dfmaxamountofyear.join(dfonlyyear, dfmaxamountofyear.Date == dfonlyyear.Date).show(2)"
   ]
  }
 ],
 "metadata": {
  "kernelspec": {
   "display_name": "Python 3",
   "language": "python",
   "name": "python3"
  },
  "language_info": {
   "codemirror_mode": {
    "name": "ipython",
    "version": 3
   },
   "file_extension": ".py",
   "mimetype": "text/x-python",
   "name": "python",
   "nbconvert_exporter": "python",
   "pygments_lexer": "ipython3",
   "version": "3.8.3"
  }
 },
 "nbformat": 4,
 "nbformat_minor": 4
}
